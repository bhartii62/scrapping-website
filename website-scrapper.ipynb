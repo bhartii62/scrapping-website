{
 "cells": [
  {
   "cell_type": "code",
   "execution_count": 1,
   "id": "ca845a81",
   "metadata": {
    "_cell_guid": "b1076dfc-b9ad-4769-8c92-a6c4dae69d19",
    "_uuid": "8f2839f25d086af736a60e9eeb907d3b93b6e0e5",
    "execution": {
     "iopub.execute_input": "2021-08-27T13:39:05.966760Z",
     "iopub.status.busy": "2021-08-27T13:39:05.965308Z",
     "iopub.status.idle": "2021-08-27T13:39:05.977331Z",
     "shell.execute_reply": "2021-08-27T13:39:05.977912Z",
     "shell.execute_reply.started": "2021-08-27T13:37:05.539550Z"
    },
    "papermill": {
     "duration": 0.027754,
     "end_time": "2021-08-27T13:39:05.978232",
     "exception": false,
     "start_time": "2021-08-27T13:39:05.950478",
     "status": "completed"
    },
    "tags": []
   },
   "outputs": [],
   "source": [
    "# This Python 3 environment comes with many helpful analytics libraries installed\n",
    "# It is defined by the kaggle/python Docker image: https://github.com/kaggle/docker-python\n",
    "# For example, here's several helpful packages to load\n",
    "\n",
    "import numpy as np # linear algebra\n",
    "import pandas as pd # data processing, CSV file I/O (e.g. pd.read_csv)\n",
    "\n",
    "# Input data files are available in the read-only \"../input/\" directory\n",
    "# For example, running this (by clicking run or pressing Shift+Enter) will list all files under the input directory\n",
    "\n",
    "import os\n",
    "for dirname, _, filenames in os.walk('/kaggle/input'):\n",
    "    for filename in filenames:\n",
    "        print(os.path.join(dirname, filename))\n",
    "\n",
    "# You can write up to 20GB to the current directory (/kaggle/working/) that gets preserved as output when you create a version using \"Save & Run All\" \n",
    "# You can also write temporary files to /kaggle/temp/, but they won't be saved outside of the current session"
   ]
  },
  {
   "cell_type": "code",
   "execution_count": 2,
   "id": "5d794715",
   "metadata": {
    "execution": {
     "iopub.execute_input": "2021-08-27T13:39:06.002400Z",
     "iopub.status.busy": "2021-08-27T13:39:06.001719Z",
     "iopub.status.idle": "2021-08-27T13:39:06.275639Z",
     "shell.execute_reply": "2021-08-27T13:39:06.275020Z",
     "shell.execute_reply.started": "2021-08-27T13:37:05.556437Z"
    },
    "papermill": {
     "duration": 0.286558,
     "end_time": "2021-08-27T13:39:06.275785",
     "exception": false,
     "start_time": "2021-08-27T13:39:05.989227",
     "status": "completed"
    },
    "tags": []
   },
   "outputs": [],
   "source": [
    "import requests\n",
    "from bs4 import BeautifulSoup\n",
    "import pandas as pd"
   ]
  },
  {
   "cell_type": "code",
   "execution_count": 3,
   "id": "bbd40b1f",
   "metadata": {
    "execution": {
     "iopub.execute_input": "2021-08-27T13:39:06.298395Z",
     "iopub.status.busy": "2021-08-27T13:39:06.297647Z",
     "iopub.status.idle": "2021-08-27T13:39:06.299427Z",
     "shell.execute_reply": "2021-08-27T13:39:06.299850Z",
     "shell.execute_reply.started": "2021-08-27T13:37:05.749065Z"
    },
    "papermill": {
     "duration": 0.015471,
     "end_time": "2021-08-27T13:39:06.300037",
     "exception": false,
     "start_time": "2021-08-27T13:39:06.284566",
     "status": "completed"
    },
    "tags": []
   },
   "outputs": [],
   "source": [
    "baseurl = \"https://www.thewhiskyexchange.com\"\n",
    "headers = {'User-Agent': 'Mozilla/5.0 (Windows NT 10.0; Win64; x64) AppleWebKit/537.36 (KHTML, like Gecko) Chrome/89.0.4389.82 Safari/537.36'}"
   ]
  },
  {
   "cell_type": "code",
   "execution_count": 4,
   "id": "4b47f164",
   "metadata": {
    "execution": {
     "iopub.execute_input": "2021-08-27T13:39:06.321025Z",
     "iopub.status.busy": "2021-08-27T13:39:06.320315Z",
     "iopub.status.idle": "2021-08-27T13:39:06.728179Z",
     "shell.execute_reply": "2021-08-27T13:39:06.728766Z",
     "shell.execute_reply.started": "2021-08-27T13:37:05.756236Z"
    },
    "papermill": {
     "duration": 0.420293,
     "end_time": "2021-08-27T13:39:06.728944",
     "exception": false,
     "start_time": "2021-08-27T13:39:06.308651",
     "status": "completed"
    },
    "tags": []
   },
   "outputs": [
    {
     "name": "stdout",
     "output_type": "stream",
     "text": [
      "[<li class=\"product-grid__item\"><a class=\"product-card\" href=\"/p/37326/akashi-red\" onclick=\"_gaq.push(['_trackEvent', 'Products-GridView', 'click', '37326 : Akashi Red'])\" title=\"Akashi Red\"><div class=\"product-card__image-container\"><img alt=\"Akashi Red\" class=\"product-card__image lazy\" data-original=\"https://img.thewhiskyexchange.com/480/japan_aka4.jpg\" height=\"4\" src=\"https://img.thewhiskyexchange.com/ph.png\" width=\"3\"/></div><div class=\"product-card__content\"><p class=\"product-card__name\"> Akashi Red </p><p class=\"product-card__meta\"> 50cl / 40% </p></div><div class=\"product-card__data\"><p class=\"product-card__price\"> £30.45 </p><p class=\"product-card__unit-price\"> (£60.90 per litre) </p></div></a></li>, <li class=\"product-grid__item\"><a class=\"product-card\" href=\"/p/37325/suntory-torys-classic\" onclick=\"_gaq.push(['_trackEvent', 'Products-GridView', 'click', '37325 : Suntory Torys Classic'])\" title=\"Suntory Torys Classic\"><div class=\"product-card__image-container\"><img alt=\"Suntory Torys Classic\" class=\"product-card__image lazy\" data-original=\"https://img.thewhiskyexchange.com/480/japan_sun20.jpg\" height=\"4\" src=\"https://img.thewhiskyexchange.com/ph.png\" width=\"3\"/></div><div class=\"product-card__content\"><p class=\"product-card__name\"> Suntory Torys Classic </p><p class=\"product-card__meta\"> 70cl / 37% </p></div><div class=\"product-card__data\"><p class=\"product-card__price\"> £30.45 </p><p class=\"product-card__unit-price\"> (£43.50 per litre) </p></div></a></li>, <li class=\"product-grid__item\"><a class=\"product-card\" href=\"/p/36362/suntory-toki\" onclick=\"_gaq.push(['_trackEvent', 'Products-GridView', 'click', '36362 : Suntory Toki'])\" title=\"Suntory Toki\"><div class=\"product-card__image-container\"><img alt=\"Suntory Toki\" class=\"product-card__image lazy\" data-original=\"https://img.thewhiskyexchange.com/480/japan_sun15.jpg\" height=\"4\" src=\"https://img.thewhiskyexchange.com/ph.png\" width=\"3\"/></div><div class=\"product-card__content\"><p class=\"product-card__name\"> Suntory Toki </p><p class=\"product-card__meta\"> 70cl / 43% </p></div><div class=\"product-card__data\"><p class=\"product-card__price\"> £31.95 </p><p class=\"product-card__unit-price\"> (£45.64 per litre) </p></div></a></li>, <li class=\"product-grid__item\"><a class=\"product-card\" href=\"/p/49001/tokinoka-white-blended-whisky\" onclick=\"_gaq.push(['_trackEvent', 'Products-GridView', 'click', '49001 : Tokinoka White Blended Whisky'])\" title=\"Tokinoka White Blended Whisky\"><div class=\"product-card__image-container\"><img alt=\"Tokinoka White Blended Whisky\" class=\"product-card__image lazy\" data-original=\"https://img.thewhiskyexchange.com/480/japan_tok2.jpg\" height=\"4\" src=\"https://img.thewhiskyexchange.com/ph.png\" width=\"3\"/></div><div class=\"product-card__content\"><p class=\"product-card__name\"> Tokinoka White Blended Whisky </p><p class=\"product-card__meta\"> 50cl / 40% </p></div><div class=\"product-card__data\"><p class=\"product-card__price\"> £32.95 </p><p class=\"product-card__unit-price\"> (£65.90 per litre) </p></div></a></li>, <li class=\"product-grid__item\"><a class=\"product-card\" href=\"/p/16917/akashi-blended-whisky\" onclick=\"_gaq.push(['_trackEvent', 'Products-GridView', 'click', '16917 : Akashi Blended Whisky'])\" title=\"Akashi Blended Whisky\"><div class=\"product-card__image-container\"><img alt=\"Akashi Blended Whisky\" class=\"product-card__image lazy\" data-original=\"https://img.thewhiskyexchange.com/480/japan_aka1.jpg\" height=\"4\" src=\"https://img.thewhiskyexchange.com/ph.png\" width=\"3\"/></div><div class=\"product-card__content\"><p class=\"product-card__name\"> Akashi Blended Whisky </p><p class=\"product-card__meta\"> 50cl / 40% </p></div><div class=\"product-card__data\"><p class=\"product-card__price\"> £32.95 </p><p class=\"product-card__unit-price\"> (£65.90 per litre) </p></div></a></li>, <li class=\"product-grid__item\"><a class=\"product-card\" href=\"/p/49821/hatozaki-blended-japanese-whisky\" onclick=\"_gaq.push(['_trackEvent', 'Products-GridView', 'click', '49821 : Hatozaki Blended Japanese Whisky'])\" title=\"Hatozaki Blended Japanese Whisky\"><div class=\"product-card__image-container\"><img alt=\"Hatozaki Blended Japanese Whisky\" class=\"product-card__image lazy\" data-original=\"https://img.thewhiskyexchange.com/480/japan_hat1.jpg\" height=\"4\" src=\"https://img.thewhiskyexchange.com/ph.png\" width=\"3\"/></div><div class=\"product-card__content\"><p class=\"product-card__name\"> Hatozaki Blended Japanese Whisky </p><p class=\"product-card__meta\"> 70cl / 40% </p></div><div class=\"product-card__data\"><p class=\"product-card__price\"> £33.95 </p><p class=\"product-card__unit-price\"> (£48.50 per litre) </p></div></a></li>, <li class=\"product-grid__item\"><a class=\"product-card\" href=\"/p/57521/suntory-toki-glass-pack\" onclick=\"_gaq.push(['_trackEvent', 'Products-GridView', 'click', '57521 : Suntory Toki / Glass Pack'])\" title=\" Suntory Toki Glass Pack\"><div class=\"product-card__image-container\"><img alt=\" Suntory TokiGlass Pack\" class=\"product-card__image lazy\" data-original=\"https://img.thewhiskyexchange.com/480/japan_sun34.jpg\" height=\"4\" src=\"https://img.thewhiskyexchange.com/ph.png\" width=\"3\"/></div><div class=\"product-card__content\"><p class=\"product-card__name\"> Suntory Toki<span class=\"product-card__name-secondary\">Glass Pack</span></p><p class=\"product-card__meta\"> 70cl / 43% </p></div><div class=\"product-card__data\"><p class=\"product-card__price\"> £34.95 </p><p class=\"product-card__unit-price\"> (£49.93 per litre) </p></div></a></li>, <li class=\"product-grid__item\"><a class=\"product-card\" href=\"/p/45577/nikka-days\" onclick=\"_gaq.push(['_trackEvent', 'Products-GridView', 'click', '45577 : Nikka Days'])\" title=\"Nikka Days\"><div class=\"product-card__image-container\"><img alt=\"Nikka Days\" class=\"product-card__image lazy\" data-original=\"https://img.thewhiskyexchange.com/480/japan_nik47.jpg\" height=\"4\" src=\"https://img.thewhiskyexchange.com/ph.png\" width=\"3\"/></div><div class=\"product-card__content\"><p class=\"product-card__name\"> Nikka Days </p><p class=\"product-card__meta\"> 70cl / 40% </p></div><div class=\"product-card__data\"><p class=\"product-card__price\"> £38.95 </p><p class=\"product-card__unit-price\"> (£55.64 per litre) </p></div></a></li>, <li class=\"product-grid__item\"><a class=\"product-card\" href=\"/p/48272/mars-kasei-blended-whisky\" onclick=\"_gaq.push(['_trackEvent', 'Products-GridView', 'click', '48272 : Mars Kasei Blended Whisky'])\" title=\"Mars Kasei Blended Whisky\"><div class=\"product-card__image-container\"><img alt=\"Mars Kasei Blended Whisky\" class=\"product-card__image lazy\" data-original=\"https://img.thewhiskyexchange.com/480/japan_mar8.jpg\" height=\"4\" src=\"https://img.thewhiskyexchange.com/ph.png\" width=\"3\"/></div><div class=\"product-card__content\"><p class=\"product-card__name\"> Mars Kasei Blended Whisky </p><p class=\"product-card__meta\"> 70cl / 40% </p></div><div class=\"product-card__data\"><p class=\"product-card__price\"> £42.95 </p><p class=\"product-card__unit-price\"> (£61.36 per litre) </p></div></a></li>, <li class=\"product-grid__item\"><a class=\"product-card\" href=\"/p/2928/nikka-from-the-barrel\" onclick=\"_gaq.push(['_trackEvent', 'Products-GridView', 'click', '2928 : Nikka From the Barrel'])\" title=\"Nikka From the Barrel\"><div class=\"product-card__image-container\"><img alt=\"Nikka From the Barrel\" class=\"product-card__image lazy\" data-original=\"https://img.thewhiskyexchange.com/480/japan_nik10.jpg\" height=\"4\" src=\"https://img.thewhiskyexchange.com/ph.png\" width=\"3\"/></div><div class=\"product-card__content\"><p class=\"product-card__name\"> Nikka From the Barrel </p><p class=\"product-card__meta\"> 50cl / 51.4% </p></div><div class=\"product-card__data\"><p class=\"product-card__price\"> £42.95 </p><p class=\"product-card__unit-price\"> (£85.90 per litre) </p></div></a></li>, <li class=\"product-grid__item\"><a class=\"product-card\" href=\"/p/24587/togouchi-premium-blended-whisky\" onclick=\"_gaq.push(['_trackEvent', 'Products-GridView', 'click', '24587 : Togouchi Premium Blended Whisky'])\" title=\"Togouchi Premium Blended Whisky\"><div class=\"product-card__image-container\"><img alt=\"Togouchi Premium Blended Whisky\" class=\"product-card__image lazy\" data-original=\"https://img.thewhiskyexchange.com/480/japan_tog1.jpg\" height=\"4\" src=\"https://img.thewhiskyexchange.com/ph.png\" width=\"3\"/></div><div class=\"product-card__content\"><p class=\"product-card__name\"> Togouchi Premium Blended Whisky </p><p class=\"product-card__meta\"> 70cl / 40% </p></div><div class=\"product-card__data\"><p class=\"product-card__price\"> £45.25 </p><p class=\"product-card__unit-price\"> (£64.64 per litre) </p></div></a></li>, <li class=\"product-grid__item\"><a class=\"product-card\" href=\"/p/2935/nikka-pure-malt-red\" onclick=\"_gaq.push(['_trackEvent', 'Products-GridView', 'click', '2935 : Nikka Pure Malt Red'])\" title=\"Nikka Pure Malt Red\"><div class=\"product-card__image-container\"><img alt=\"Nikka Pure Malt Red\" class=\"product-card__image lazy\" data-original=\"https://img.thewhiskyexchange.com/480/japan_nik8.jpg\" height=\"4\" src=\"https://img.thewhiskyexchange.com/ph.png\" width=\"3\"/></div><div class=\"product-card__content\"><p class=\"product-card__name\"> Nikka Pure Malt Red </p><p class=\"product-card__meta\"> 50cl / 43% </p></div><div class=\"product-card__data\"><p class=\"product-card__price\"> £46.45 </p><p class=\"product-card__unit-price\"> (£92.90 per litre) </p></div></a></li>, <li class=\"product-grid__item\"><a class=\"product-card\" href=\"/p/49822/hatozaki-pure-malt-japanese-whisky\" onclick=\"_gaq.push(['_trackEvent', 'Products-GridView', 'click', '49822 : Hatozaki Pure Malt Japanese Whisky'])\" title=\"Hatozaki Pure Malt Japanese Whisky\"><div class=\"product-card__image-container\"><img alt=\"Hatozaki Pure Malt Japanese Whisky\" class=\"product-card__image lazy\" data-original=\"https://img.thewhiskyexchange.com/480/japan_hat2.jpg\" height=\"4\" src=\"https://img.thewhiskyexchange.com/ph.png\" width=\"3\"/></div><div class=\"product-card__content\"><p class=\"product-card__name\"> Hatozaki Pure Malt Japanese Whisky </p><p class=\"product-card__meta\"> 70cl / 46% </p></div><div class=\"product-card__data\"><p class=\"product-card__price\"> £47.45 </p><p class=\"product-card__unit-price\"> (£67.79 per litre) </p></div></a></li>, <li class=\"product-grid__item\"><a class=\"product-card\" href=\"/p/34970/tokinoka-black-blended-whisky\" onclick=\"_gaq.push(['_trackEvent', 'Products-GridView', 'click', '34970 : Tokinoka Black Blended Whisky'])\" title=\"Tokinoka Black Blended Whisky\"><div class=\"product-card__image-container\"><img alt=\"Tokinoka Black Blended Whisky\" class=\"product-card__image lazy\" data-original=\"https://img.thewhiskyexchange.com/480/japan_tok1.jpg\" height=\"4\" src=\"https://img.thewhiskyexchange.com/ph.png\" width=\"3\"/></div><div class=\"product-card__content\"><p class=\"product-card__name\"> Tokinoka Black Blended Whisky </p><p class=\"product-card__meta\"> 50cl / 50% </p></div><div class=\"product-card__data\"><p class=\"product-card__price\"> £47.95 </p><p class=\"product-card__unit-price\"> (£95.90 per litre) </p></div></a></li>, <li class=\"product-grid__item\"><a class=\"product-card\" href=\"/p/37317/the-chita-whisky\" onclick=\"_gaq.push(['_trackEvent', 'Products-GridView', 'click', '37317 : The Chita Whisky'])\" title=\"The Chita Whisky\"><div class=\"product-card__image-container\"><img alt=\"The Chita Whisky\" class=\"product-card__image lazy\" data-original=\"https://img.thewhiskyexchange.com/480/japan_sun17.jpg\" height=\"4\" src=\"https://img.thewhiskyexchange.com/ph.png\" width=\"3\"/></div><div class=\"product-card__content\"><p class=\"product-card__name\"> The Chita Whisky </p><p class=\"product-card__meta\"> 70cl / 43% </p></div><div class=\"product-card__data\"><p class=\"product-card__price\"> £49.95 </p><p class=\"product-card__unit-price\"> (£71.36 per litre) </p></div></a></li>, <li class=\"product-grid__item\"><a class=\"product-card\" href=\"/p/30377/super-nikka-rare-old\" onclick=\"_gaq.push(['_trackEvent', 'Products-GridView', 'click', '30377 : Super Nikka / Rare Old'])\" title=\" Super Nikka Rare Old\"><div class=\"product-card__image-container\"><img alt=\" Super NikkaRare Old\" class=\"product-card__image lazy\" data-original=\"https://img.thewhiskyexchange.com/480/japan_nik35.jpg\" height=\"4\" src=\"https://img.thewhiskyexchange.com/ph.png\" width=\"3\"/></div><div class=\"product-card__content\"><p class=\"product-card__name\"> Super Nikka<span class=\"product-card__name-secondary\">Rare Old</span></p><p class=\"product-card__meta\"> 70cl / 43% </p></div><div class=\"product-card__data\"><p class=\"product-card__price\"> £50.25 </p><p class=\"product-card__unit-price\"> (£71.79 per litre) </p></div></a></li>, <li class=\"product-grid__item\"><a class=\"product-card\" href=\"/p/23928/nikka-coffey-grain-whisky\" onclick=\"_gaq.push(['_trackEvent', 'Products-GridView', 'click', '23928 : Nikka Coffey Grain Whisky'])\" title=\"Nikka Coffey Grain Whisky\"><div class=\"product-card__image-container\"><img alt=\"Nikka Coffey Grain Whisky\" class=\"product-card__image lazy\" data-original=\"https://img.thewhiskyexchange.com/480/japan_nik24.jpg\" height=\"4\" src=\"https://img.thewhiskyexchange.com/ph.png\" width=\"3\"/><div class=\"product-extras product-extras--grid\"><div class=\"product-extras-banner\"><img alt=\"Available with Engraving\" class=\"product-extras-banner__image\" height=\"37\" src=\"/media/rtwe/assets/application/images/widgets/engraving-sm.png\" width=\"198\"/></div></div></div><div class=\"product-card__content\"><p class=\"product-card__name\"> Nikka Coffey Grain Whisky </p><p class=\"product-card__meta\"> 70cl / 45% </p></div><div class=\"product-card__data\"><p class=\"product-card__price\"> £54.95 </p><p class=\"product-card__unit-price\"> (£78.50 per litre) </p></div></a></li>, <li class=\"product-grid__item\"><a class=\"product-card\" href=\"/p/57245/enso-japanese-whisky\" onclick=\"_gaq.push(['_trackEvent', 'Products-GridView', 'click', '57245 : Enso Japanese Whisky'])\" title=\"Enso Japanese Whisky\"><div class=\"product-card__image-container\"><img alt=\"Enso Japanese Whisky\" class=\"product-card__image lazy\" data-original=\"https://img.thewhiskyexchange.com/480/japan_ens1.jpg\" height=\"4\" src=\"https://img.thewhiskyexchange.com/ph.png\" width=\"3\"/></div><div class=\"product-card__content\"><p class=\"product-card__name\"> Enso Japanese Whisky </p><p class=\"product-card__meta\"> 70cl / 40% </p></div><div class=\"product-card__data\"><p class=\"product-card__price\"> £55.95 </p><p class=\"product-card__unit-price\"> (£79.93 per litre) </p></div></a></li>, <li class=\"product-grid__item\"><a class=\"product-card\" href=\"/p/29679/mars-maltage-cosmo\" onclick=\"_gaq.push(['_trackEvent', 'Products-GridView', 'click', '29679 : Mars Maltage Cosmo'])\" title=\"Mars Maltage Cosmo\"><div class=\"product-card__image-container\"><img alt=\"Mars Maltage Cosmo\" class=\"product-card__image lazy\" data-original=\"https://img.thewhiskyexchange.com/480/japan_mar4.jpg\" height=\"4\" src=\"https://img.thewhiskyexchange.com/ph.png\" width=\"3\"/></div><div class=\"product-card__content\"><p class=\"product-card__name\"> Mars Maltage Cosmo </p><p class=\"product-card__meta\"> 70cl / 43% </p></div><div class=\"product-card__data\"><p class=\"product-card__price\"> £55.95 </p><p class=\"product-card__unit-price\"> (£79.93 per litre) </p></div></a></li>, <li class=\"product-grid__item\"><a class=\"product-card\" href=\"/p/24156/nikka-coffey-malt-whisky\" onclick=\"_gaq.push(['_trackEvent', 'Products-GridView', 'click', '24156 : Nikka Coffey Malt Whisky'])\" title=\"Nikka Coffey Malt Whisky\"><div class=\"product-card__image-container\"><img alt=\"Nikka Coffey Malt Whisky\" class=\"product-card__image lazy\" data-original=\"https://img.thewhiskyexchange.com/480/japan_nik25.jpg\" height=\"4\" src=\"https://img.thewhiskyexchange.com/ph.png\" width=\"3\"/></div><div class=\"product-card__content\"><p class=\"product-card__name\"> Nikka Coffey Malt Whisky </p><p class=\"product-card__meta\"> 70cl / 45% </p></div><div class=\"product-card__data\"><p class=\"product-card__price\"> £58.45 </p><p class=\"product-card__unit-price\"> (£83.50 per litre) </p></div></a></li>, <li class=\"product-grid__item\"><a class=\"product-card\" href=\"/p/33964/suntory-kakubin-yellow-label\" onclick=\"_gaq.push(['_trackEvent', 'Products-GridView', 'click', '33964 : Suntory Kakubin Yellow Label'])\" title=\"Suntory Kakubin Yellow Label\"><div class=\"product-card__image-container\"><img alt=\"Suntory Kakubin Yellow Label\" class=\"product-card__image lazy\" data-original=\"https://img.thewhiskyexchange.com/480/japan_sun13.jpg\" height=\"4\" src=\"https://img.thewhiskyexchange.com/ph.png\" width=\"3\"/></div><div class=\"product-card__content\"><p class=\"product-card__name\"> Suntory Kakubin Yellow Label </p><p class=\"product-card__meta\"> 70cl / 40% </p></div><div class=\"product-card__data\"><p class=\"product-card__price\"> £59.45 </p><p class=\"product-card__unit-price\"> (£84.93 per litre) </p></div></a></li>, <li class=\"product-grid__item\"><a class=\"product-card\" href=\"/p/56192/nikka-taketsuru-pure-malt-2020-release\" onclick=\"_gaq.push(['_trackEvent', 'Products-GridView', 'click', '56192 : Nikka Taketsuru Pure Malt / 2020 Release'])\" title=\" Nikka Taketsuru Pure Malt 2020 Release\"><div class=\"product-card__image-container\"><img alt=\" Nikka Taketsuru Pure Malt2020 Release\" class=\"product-card__image lazy\" data-original=\"https://img.thewhiskyexchange.com/480/japan_tak13.jpg\" height=\"4\" src=\"https://img.thewhiskyexchange.com/ph.png\" width=\"3\"/></div><div class=\"product-card__content\"><p class=\"product-card__name\"> Nikka Taketsuru Pure Malt<span class=\"product-card__name-secondary\">2020 Release</span></p><p class=\"product-card__meta\"> 70cl / 43% </p></div><div class=\"product-card__data\"><p class=\"product-card__price\"> £59.95 </p><p class=\"product-card__unit-price\"> (£85.64 per litre) </p></div></a></li>, <li class=\"product-grid__item\"><a class=\"product-card\" href=\"/p/23771/hakushu-distillers-reserve\" onclick=\"_gaq.push(['_trackEvent', 'Products-GridView', 'click', '23771 : Hakushu Distillers Reserve'])\" title=\"Hakushu Distiller's Reserve\"><div class=\"product-card__image-container\"><img alt=\"Hakushu Distiller's Reserve\" class=\"product-card__image lazy\" data-original=\"https://img.thewhiskyexchange.com/480/japan_hak16.jpg\" height=\"4\" src=\"https://img.thewhiskyexchange.com/ph.png\" width=\"3\"/><div class=\"product-extras product-extras--grid\"><div class=\"product-extras-banner\"><img alt=\"Available with Engraving\" class=\"product-extras-banner__image\" height=\"37\" src=\"/media/rtwe/assets/application/images/widgets/engraving-sm.png\" width=\"198\"/></div></div></div><div class=\"product-card__content\"><p class=\"product-card__name\"> Hakushu Distiller's Reserve </p><p class=\"product-card__meta\"> 70cl / 43% </p></div><div class=\"product-card__data\"><p class=\"product-card__price\"> £66.95 </p><p class=\"product-card__unit-price\"> (£95.64 per litre) </p></div></a></li>, <li class=\"product-grid__item\"><a class=\"product-card\" href=\"/p/23772/yamazaki-distillers-reserve\" onclick=\"_gaq.push(['_trackEvent', 'Products-GridView', 'click', '23772 : Yamazaki Distillers Reserve'])\" title=\"Yamazaki Distiller's Reserve\"><div class=\"product-card__image-container\"><img alt=\"Yamazaki Distiller's Reserve\" class=\"product-card__image lazy\" data-original=\"https://img.thewhiskyexchange.com/480/japan_yam29.jpg\" height=\"4\" src=\"https://img.thewhiskyexchange.com/ph.png\" width=\"3\"/></div><div class=\"product-card__content\"><p class=\"product-card__name\"> Yamazaki Distiller's Reserve </p><p class=\"product-card__meta\"> 70cl / 43% </p></div><div class=\"product-card__data\"><p class=\"product-card__price\"> £68.95 </p><p class=\"product-card__unit-price\"> (£98.50 per litre) </p></div></a></li>]\n"
     ]
    }
   ],
   "source": [
    "k = requests.get('https://www.thewhiskyexchange.com/c/35/japanese-whisky').text\n",
    "soup=BeautifulSoup(k,'html.parser')\n",
    "productlist = soup.find_all(\"li\",{\"class\":\"product-grid__item\"})\n",
    "print(productlist)"
   ]
  },
  {
   "cell_type": "code",
   "execution_count": 5,
   "id": "94d639b0",
   "metadata": {
    "execution": {
     "iopub.execute_input": "2021-08-27T13:39:06.754440Z",
     "iopub.status.busy": "2021-08-27T13:39:06.753456Z",
     "iopub.status.idle": "2021-08-27T13:39:06.756993Z",
     "shell.execute_reply": "2021-08-27T13:39:06.756337Z",
     "shell.execute_reply.started": "2021-08-27T13:37:06.481104Z"
    },
    "papermill": {
     "duration": 0.018584,
     "end_time": "2021-08-27T13:39:06.757160",
     "exception": false,
     "start_time": "2021-08-27T13:39:06.738576",
     "status": "completed"
    },
    "tags": []
   },
   "outputs": [],
   "source": [
    "productlinks = []\n",
    "for product in productlist:\n",
    "        link = product.find(\"a\",{\"class\":\"product-card\"}).get('href')       \n",
    "        productlinks.append(baseurl + link)"
   ]
  },
  {
   "cell_type": "code",
   "execution_count": 6,
   "id": "168b11c6",
   "metadata": {
    "execution": {
     "iopub.execute_input": "2021-08-27T13:39:06.784042Z",
     "iopub.status.busy": "2021-08-27T13:39:06.783349Z",
     "iopub.status.idle": "2021-08-27T13:39:08.811452Z",
     "shell.execute_reply": "2021-08-27T13:39:08.811962Z",
     "shell.execute_reply.started": "2021-08-27T13:37:06.489432Z"
    },
    "papermill": {
     "duration": 2.045728,
     "end_time": "2021-08-27T13:39:08.812172",
     "exception": false,
     "start_time": "2021-08-27T13:39:06.766444",
     "status": "completed"
    },
    "tags": []
   },
   "outputs": [],
   "source": [
    "productlinks = []\n",
    "for x in range(1,6):  \n",
    "    k = requests.get('https://www.thewhiskyexchange.com/c/35/japanese-whisky?pg={}&psize=24&sort=pasc'.format(x)).text  \n",
    "    soup=BeautifulSoup(k,'html.parser')  \n",
    "    productlist = soup.find_all(\"li\",{\"class\":\"product-grid__item\"})\n",
    " \n",
    "    for product in productlist:\n",
    "        link = product.find(\"a\",{\"class\":\"product-card\"}).get('href')\n",
    "        productlinks.append(baseurl + link)"
   ]
  },
  {
   "cell_type": "code",
   "execution_count": 7,
   "id": "c6d65233",
   "metadata": {
    "execution": {
     "iopub.execute_input": "2021-08-27T13:39:08.835120Z",
     "iopub.status.busy": "2021-08-27T13:39:08.834453Z",
     "iopub.status.idle": "2021-08-27T13:39:43.349786Z",
     "shell.execute_reply": "2021-08-27T13:39:43.350311Z",
     "shell.execute_reply.started": "2021-08-27T13:37:12.320567Z"
    },
    "papermill": {
     "duration": 34.528364,
     "end_time": "2021-08-27T13:39:43.350516",
     "exception": false,
     "start_time": "2021-08-27T13:39:08.822152",
     "status": "completed"
    },
    "tags": []
   },
   "outputs": [],
   "source": [
    "data=[]\n",
    "for link in productlinks:\n",
    "    f=requests.get(link,headers=headers).text\n",
    "    hun=BeautifulSoup(f,'html.parser')\n",
    "\n",
    "    try:\n",
    "        price=hun.find(\"p\",{\"class\":\"product-action__price\"}).text.replace('\\n',\"\")\n",
    "    except:\n",
    "        price = None\n",
    "\n",
    "    try:\n",
    "        about=hun.find(\"div\",{\"class\":\"product-main__description\"}).text.replace('\\n',\"\")\n",
    "    except:\n",
    "        about=None\n",
    "\n",
    "    try:\n",
    "        rating = hun.find(\"div\",{\"class\":\"review-overview\"}).text.replace('\\n',\"\")\n",
    "    except:\n",
    "        rating=None\n",
    "\n",
    "    try:\n",
    "        name=hun.find(\"h1\",{\"class\":\"product-main__name\"}).text.replace('\\n',\"\")\n",
    "    except:\n",
    "        name=None\n",
    "\n",
    "    whisky = {\"name\":name,\"price\":price,\"rating\":rating,\"about\":about}\n",
    "\n",
    "    data.append(whisky)"
   ]
  },
  {
   "cell_type": "code",
   "execution_count": 8,
   "id": "ce77c36f",
   "metadata": {
    "execution": {
     "iopub.execute_input": "2021-08-27T13:39:43.372932Z",
     "iopub.status.busy": "2021-08-27T13:39:43.372005Z",
     "iopub.status.idle": "2021-08-27T13:39:43.395323Z",
     "shell.execute_reply": "2021-08-27T13:39:43.394749Z",
     "shell.execute_reply.started": "2021-08-27T13:38:42.799323Z"
    },
    "papermill": {
     "duration": 0.035462,
     "end_time": "2021-08-27T13:39:43.395464",
     "exception": false,
     "start_time": "2021-08-27T13:39:43.360002",
     "status": "completed"
    },
    "tags": []
   },
   "outputs": [
    {
     "name": "stdout",
     "output_type": "stream",
     "text": [
      "                                                  name    price  \\\n",
      "0                                           Akashi Red   £30.45   \n",
      "1                                Suntory Torys Classic   £30.45   \n",
      "2                                         Suntory Toki   £31.95   \n",
      "3                        Tokinoka White Blended Whisky   £32.95   \n",
      "4                                Akashi Blended Whisky   £32.95   \n",
      "..                                                 ...      ...   \n",
      "100  Karuizawa 196742 Year Old Cask #6426 TWE 10th ...  £22,500   \n",
      "101               Hanyu 1990Queen of Hearts Cask #9102  £25,000   \n",
      "102                  Karuizawa 38 Year OldPearl Geisha  £25,000   \n",
      "103             Karuizawa 30 Year OldSherry Cask #5347  £25,000   \n",
      "104               Hanyu 1985 The JokerMonochrome Label  £60,000   \n",
      "\n",
      "              rating                                              about  \n",
      "0        4(1 Review)  Akashi Red is made at the Eigashima (aka White...  \n",
      "1     3.5(2 Reviews)  Suntory Torys Classic is a light and easy-drin...  \n",
      "2      4(32 Reviews)  Toki is a blended whisky from Suntory's three ...  \n",
      "3               None  A Japanese blended whisky from White Oak disti...  \n",
      "4    3.5(19 Reviews)  A lesser-known whisky outside the local Japane...  \n",
      "..               ...                                                ...  \n",
      "100             None  Here it is - the legendary Karuizawa 1967 42yo...  \n",
      "101             None  One of a series of really terrific Japanese ma...  \n",
      "102             None  Bottled by Elixir Distillers, this 38-year-old...  \n",
      "103             None  The sherried half of a pair of Karuizawas laun...  \n",
      "104             None  The last and final release from the Ichiro's M...  \n",
      "\n",
      "[105 rows x 4 columns]\n"
     ]
    }
   ],
   "source": [
    "df = pd.DataFrame(data)\n",
    "\n",
    "print(df)"
   ]
  },
  {
   "cell_type": "code",
   "execution_count": null,
   "id": "f7ff404e",
   "metadata": {
    "papermill": {
     "duration": 0.009557,
     "end_time": "2021-08-27T13:39:43.414727",
     "exception": false,
     "start_time": "2021-08-27T13:39:43.405170",
     "status": "completed"
    },
    "tags": []
   },
   "outputs": [],
   "source": []
  }
 ],
 "metadata": {
  "kernelspec": {
   "display_name": "Python 3",
   "language": "python",
   "name": "python3"
  },
  "language_info": {
   "codemirror_mode": {
    "name": "ipython",
    "version": 3
   },
   "file_extension": ".py",
   "mimetype": "text/x-python",
   "name": "python",
   "nbconvert_exporter": "python",
   "pygments_lexer": "ipython3",
   "version": "3.7.10"
  },
  "papermill": {
   "default_parameters": {},
   "duration": 47.868569,
   "end_time": "2021-08-27T13:39:44.938780",
   "environment_variables": {},
   "exception": null,
   "input_path": "__notebook__.ipynb",
   "output_path": "__notebook__.ipynb",
   "parameters": {},
   "start_time": "2021-08-27T13:38:57.070211",
   "version": "2.3.3"
  }
 },
 "nbformat": 4,
 "nbformat_minor": 5
}
