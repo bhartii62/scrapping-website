{
 "cells": [
  {
   "cell_type": "code",
   "execution_count": 1,
   "id": "280b24b2",
   "metadata": {
    "_cell_guid": "b1076dfc-b9ad-4769-8c92-a6c4dae69d19",
    "_uuid": "8f2839f25d086af736a60e9eeb907d3b93b6e0e5",
    "execution": {
     "iopub.execute_input": "2022-01-08T07:19:27.451769Z",
     "iopub.status.busy": "2022-01-08T07:19:27.450661Z",
     "iopub.status.idle": "2022-01-08T07:19:27.459839Z",
     "shell.execute_reply": "2022-01-08T07:19:27.460326Z",
     "shell.execute_reply.started": "2022-01-08T07:12:16.848022Z"
    },
    "papermill": {
     "duration": 0.021807,
     "end_time": "2022-01-08T07:19:27.460696",
     "exception": false,
     "start_time": "2022-01-08T07:19:27.438889",
     "status": "completed"
    },
    "tags": []
   },
   "outputs": [],
   "source": [
    "# This Python 3 environment comes with many helpful analytics libraries installed\n",
    "# It is defined by the kaggle/python Docker image: https://github.com/kaggle/docker-python\n",
    "# For example, here's several helpful packages to load\n",
    "\n",
    "import numpy as np # linear algebra\n",
    "import pandas as pd # data processing, CSV file I/O (e.g. pd.read_csv)\n",
    "\n",
    "# Input data files are available in the read-only \"../input/\" directory\n",
    "# For example, running this (by clicking run or pressing Shift+Enter) will list all files under the input directory\n",
    "\n",
    "import os\n",
    "for dirname, _, filenames in os.walk('/kaggle/input'):\n",
    "    for filename in filenames:\n",
    "        print(os.path.join(dirname, filename))\n",
    "\n",
    "# You can write up to 20GB to the current directory (/kaggle/working/) that gets preserved as output when you create a version using \"Save & Run All\" \n",
    "# You can also write temporary files to /kaggle/temp/, but they won't be saved outside of the current session"
   ]
  },
  {
   "cell_type": "code",
   "execution_count": 2,
   "id": "4456ab1c",
   "metadata": {
    "execution": {
     "iopub.execute_input": "2022-01-08T07:19:27.479421Z",
     "iopub.status.busy": "2022-01-08T07:19:27.478840Z",
     "iopub.status.idle": "2022-01-08T07:19:27.756144Z",
     "shell.execute_reply": "2022-01-08T07:19:27.755612Z",
     "shell.execute_reply.started": "2022-01-08T07:12:16.849690Z"
    },
    "papermill": {
     "duration": 0.287456,
     "end_time": "2022-01-08T07:19:27.756279",
     "exception": false,
     "start_time": "2022-01-08T07:19:27.468823",
     "status": "completed"
    },
    "tags": []
   },
   "outputs": [],
   "source": [
    "import requests\n",
    "from random import randint\n",
    "from time import sleep\n",
    "from bs4 import BeautifulSoup\n",
    "import pandas as pd"
   ]
  },
  {
   "cell_type": "code",
   "execution_count": 3,
   "id": "e062b915",
   "metadata": {
    "execution": {
     "iopub.execute_input": "2022-01-08T07:19:27.777661Z",
     "iopub.status.busy": "2022-01-08T07:19:27.776848Z",
     "iopub.status.idle": "2022-01-08T07:19:27.779955Z",
     "shell.execute_reply": "2022-01-08T07:19:27.779496Z",
     "shell.execute_reply.started": "2022-01-08T07:12:16.852146Z"
    },
    "papermill": {
     "duration": 0.015997,
     "end_time": "2022-01-08T07:19:27.780092",
     "exception": false,
     "start_time": "2022-01-08T07:19:27.764095",
     "status": "completed"
    },
    "tags": []
   },
   "outputs": [],
   "source": [
    "def get_item_page(items_url):\n",
    "    # Download the page\n",
    "    response = requests.get(items_url)\n",
    "    # Check successful response\n",
    "    if response.status_code != 200:\n",
    "        raise Exception('Failed to load page {}'.format(items_url))\n",
    "    # Parse using Beautiful soup\n",
    "    doc = BeautifulSoup(response.text, 'html.parser')\n",
    "    return doc"
   ]
  },
  {
   "cell_type": "code",
   "execution_count": 4,
   "id": "a317ffc2",
   "metadata": {
    "execution": {
     "iopub.execute_input": "2022-01-08T07:19:27.803187Z",
     "iopub.status.busy": "2022-01-08T07:19:27.802592Z",
     "iopub.status.idle": "2022-01-08T07:19:53.794482Z",
     "shell.execute_reply": "2022-01-08T07:19:53.794956Z",
     "shell.execute_reply.started": "2022-01-08T07:12:22.856371Z"
    },
    "papermill": {
     "duration": 26.006694,
     "end_time": "2022-01-08T07:19:53.795118",
     "exception": false,
     "start_time": "2022-01-08T07:19:27.788424",
     "status": "completed"
    },
    "tags": []
   },
   "outputs": [
    {
     "name": "stdout",
     "output_type": "stream",
     "text": [
      "Downloading page number 1\n",
      "Downloading page number 2\n",
      "Downloading page number 3\n",
      "Downloading page number 4\n"
     ]
    },
    {
     "data": {
      "text/plain": [
       "32"
      ]
     },
     "execution_count": 4,
     "metadata": {},
     "output_type": "execute_result"
    }
   ],
   "source": [
    "#Now we have a summarised  steps in a function as below\n",
    "def get_item_list_tags():\n",
    "    item_list_tags = []\n",
    "    for page in range(1,5):\n",
    "          items_url = f\"https://www.alibaba.com/trade/search?fsb=y&IndexArea=product_en&CatId=&SearchText=Inflight+Items&viewtype=G&tab={page}\"\n",
    "          response = requests.get(items_url)\n",
    "          page_contents = response.text\n",
    "          if response.status_code != 200:\n",
    "              raise Exception('Failed to load page {}'.format(items_url))\n",
    "          doc = BeautifulSoup(page_contents, \"html.parser\")\n",
    "          for item in doc.find_all(\"div\", {'class': \"organic-gallery-offer-outter J-offer-wrapper\"}):\n",
    "                item_list_tags.append(item)\n",
    "          sleep(randint(2,10))\n",
    "          print('Downloading page number', page)  \n",
    "    return item_list_tags\n",
    "item_list_tags= get_item_list_tags()\n",
    "len (item_list_tags)"
   ]
  },
  {
   "cell_type": "code",
   "execution_count": 5,
   "id": "107da532",
   "metadata": {
    "execution": {
     "iopub.execute_input": "2022-01-08T07:19:53.822614Z",
     "iopub.status.busy": "2022-01-08T07:19:53.821965Z",
     "iopub.status.idle": "2022-01-08T07:19:53.826181Z",
     "shell.execute_reply": "2022-01-08T07:19:53.825703Z",
     "shell.execute_reply.started": "2022-01-08T07:14:18.788151Z"
    },
    "papermill": {
     "duration": 0.0217,
     "end_time": "2022-01-08T07:19:53.826327",
     "exception": false,
     "start_time": "2022-01-08T07:19:53.804627",
     "status": "completed"
    },
    "tags": []
   },
   "outputs": [
    {
     "data": {
      "text/plain": [
       "['Most popular items neck strap lanyard chain vaper lanyard electronic atomizer lanyard for leisure time',\n",
       " 'Fashionable inflight items plastic sound insulation ear plugs',\n",
       " 'Cheap Custom Promotional Item,Promotional Product,Promotional Item China',\n",
       " 'Most Popular Promotional Products and Corporate Gift Items to Build Brand',\n",
       " 'One stop OEM & ODM Custom Logo Promotion Material Election Gadgets Political Campaign Vote Promotional Giveaways Gifts Items',\n",
       " '2021 Best selling Gift items custom promotional products for event giveaways',\n",
       " 'SUNJET New Products Custom Mini Electronic Gift Items Led Fan',\n",
       " 'RECOMMEND Best custom promotional Advertising items and giveaways Merchandise Products',\n",
       " 'Most popular items neck strap lanyard chain vaper lanyard electronic atomizer lanyard for leisure time',\n",
       " 'Items Promotional Items Custom Fashion Printing Charm Plastic High Quality Stand Up Transparent Acrylic Photo Keychain',\n",
       " 'Fashionable inflight items plastic sound insulation ear plugs',\n",
       " 'Cheap Custom Promotional Item,Promotional Product,Promotional Item China',\n",
       " 'Most Popular Promotional Products and Corporate Gift Items to Build Brand',\n",
       " 'One stop OEM & ODM Custom Logo Promotion Material Election Gadgets Political Campaign Vote Promotional Giveaways Gifts Items',\n",
       " '2021 Best selling Gift items custom promotional products for event giveaways',\n",
       " 'SUNJET New Products Custom Mini Electronic Gift Items Led Fan',\n",
       " 'Most popular items neck strap lanyard chain vaper lanyard electronic atomizer lanyard for leisure time',\n",
       " 'Fashionable inflight items plastic sound insulation ear plugs',\n",
       " 'promotional items',\n",
       " 'Cheap Custom Promotional Item,Promotional Product,Promotional Item China',\n",
       " '2021 New Top Selling Gadgets Items',\n",
       " 'Top selling innovative top selling cool gadgets/ Best gifts item in summer',\n",
       " 'Cheap OEM Promotion Items Giveaways',\n",
       " 'Wholesale promotional kind of popular giveaway items',\n",
       " 'Fashionable inflight items plastic sound insulation ear plugs',\n",
       " 'Cheap Custom Promotional Item,Promotional Product,Promotional Item China',\n",
       " 'promotional items',\n",
       " 'Cheap OEM Promotion Items Giveaways',\n",
       " '2021 New Top Selling Gadgets Items',\n",
       " 'ET-100A medical promotional items',\n",
       " 'Wholesale promotional kind of popular giveaway items',\n",
       " 'Top selling innovative top selling cool gadgets/ Best gifts item in summer']"
      ]
     },
     "execution_count": 5,
     "metadata": {},
     "output_type": "execute_result"
    }
   ],
   "source": [
    "#now we will do the  steps to get header details in a small function\n",
    "def get_itemdetail(item_list_tags):\n",
    "    all_item_titledetail_list = []\n",
    "    for item in item_list_tags:\n",
    "        title = item.find ('p', {'class': 'elements-title-normal__content medium'})\n",
    "        all_item_titledetail_list.append({\"Title\":title.text.strip()})\n",
    "\n",
    "    itemdetail=[]\n",
    "    for tag in all_item_titledetail_list:\n",
    "        itemdetail.append(tag.get('Title'))\n",
    "    return itemdetail\n",
    "\n",
    "itemdetail = get_itemdetail(item_list_tags)\n",
    "len (itemdetail)#this will give length\n",
    "itemdetail #this will list out the header details"
   ]
  },
  {
   "cell_type": "code",
   "execution_count": 6,
   "id": "8e7e51e3",
   "metadata": {
    "execution": {
     "iopub.execute_input": "2022-01-08T07:19:53.856185Z",
     "iopub.status.busy": "2022-01-08T07:19:53.855517Z",
     "iopub.status.idle": "2022-01-08T07:19:53.859790Z",
     "shell.execute_reply": "2022-01-08T07:19:53.859265Z",
     "shell.execute_reply.started": "2022-01-08T07:14:25.958679Z"
    },
    "papermill": {
     "duration": 0.023789,
     "end_time": "2022-01-08T07:19:53.859925",
     "exception": false,
     "start_time": "2022-01-08T07:19:53.836136",
     "status": "completed"
    },
    "tags": []
   },
   "outputs": [
    {
     "data": {
      "text/plain": [
       "32"
      ]
     },
     "execution_count": 6,
     "metadata": {},
     "output_type": "execute_result"
    }
   ],
   "source": [
    "#we will summarise the above steps to get price in a function\n",
    "def get_itemprice(item_list_tags):\n",
    "    item_price_tags = []\n",
    "    for item in item_list_tags:\n",
    "        item_price = item.find ('span', {'class': 'elements-offer-price-normal__price'})\n",
    "        if item_price == None:\n",
    "            item_price_tags.append({\"ItemPrice\":item_price})\n",
    "        else:\n",
    "            item_price_tags.append({\"ItemPrice\":item_price.get_text(strip=True)})\n",
    "\n",
    "    itemprice=[]\n",
    "    for tag in item_price_tags:\n",
    "        itemprice.append(tag.get('ItemPrice'))\n",
    "    return itemprice\n",
    "\n",
    "#this name \"itemprice\" should match with the name used in key:value pair value which will be used later in dict for df\n",
    "itemprice = get_itemprice(item_list_tags)\n",
    "len(itemprice)"
   ]
  },
  {
   "cell_type": "code",
   "execution_count": 7,
   "id": "1af19d6e",
   "metadata": {
    "execution": {
     "iopub.execute_input": "2022-01-08T07:19:53.892158Z",
     "iopub.status.busy": "2022-01-08T07:19:53.891534Z",
     "iopub.status.idle": "2022-01-08T07:19:53.895689Z",
     "shell.execute_reply": "2022-01-08T07:19:53.895205Z",
     "shell.execute_reply.started": "2022-01-08T07:14:53.049369Z"
    },
    "papermill": {
     "duration": 0.026288,
     "end_time": "2022-01-08T07:19:53.895821",
     "exception": false,
     "start_time": "2022-01-08T07:19:53.869533",
     "status": "completed"
    },
    "tags": []
   },
   "outputs": [
    {
     "data": {
      "text/plain": [
       "[1,\n",
       " 0,\n",
       " 3,\n",
       " 3,\n",
       " 3,\n",
       " 3,\n",
       " 5,\n",
       " 3,\n",
       " 1,\n",
       " 0,\n",
       " 0,\n",
       " 3,\n",
       " 3,\n",
       " 3,\n",
       " 3,\n",
       " 5,\n",
       " 1,\n",
       " 0,\n",
       " 0,\n",
       " 3,\n",
       " 2,\n",
       " 4,\n",
       " 5,\n",
       " 2,\n",
       " 0,\n",
       " 3,\n",
       " 0,\n",
       " 5,\n",
       " 2,\n",
       " 2,\n",
       " 2,\n",
       " 4]"
      ]
     },
     "execution_count": 7,
     "metadata": {},
     "output_type": "execute_result"
    }
   ],
   "source": [
    "#we will make a small function to get the rating/stars \n",
    "def get_Stars(item_list_tags):\n",
    "    star_tags = []\n",
    "    for item in item_list_tags:\n",
    "        star = len(item.find_all('i', {'class': \"iconfont iconzuanshi seller-star-level__dm dm-orange\"}))\n",
    "        star_tags.append({\"Stars\":star})\n",
    "    star=[]\n",
    "    for tag in star_tags:\n",
    "        star.append(tag.get('Stars'))\n",
    "    return star\n",
    "star = get_Stars(item_list_tags)\n",
    "star #this will list out the star details"
   ]
  },
  {
   "cell_type": "code",
   "execution_count": 8,
   "id": "923330ac",
   "metadata": {
    "execution": {
     "iopub.execute_input": "2022-01-08T07:19:53.921814Z",
     "iopub.status.busy": "2022-01-08T07:19:53.921045Z",
     "iopub.status.idle": "2022-01-08T07:19:53.923262Z",
     "shell.execute_reply": "2022-01-08T07:19:53.922698Z",
     "shell.execute_reply.started": "2022-01-08T07:14:59.603503Z"
    },
    "papermill": {
     "duration": 0.017845,
     "end_time": "2022-01-08T07:19:53.923417",
     "exception": false,
     "start_time": "2022-01-08T07:19:53.905572",
     "status": "completed"
    },
    "tags": []
   },
   "outputs": [],
   "source": [
    "#we will  get URLs in a small function\n",
    "def get_URLS(item_list_tags):\n",
    "    website_tags = []\n",
    "    base_url = 'https:'\n",
    "    for item in item_list_tags:\n",
    "        website = item.find ('a', {'class': 'organic-gallery-offer__img-section'})\n",
    "        website_tags.append({\"Website\":base_url+website['href']})\n",
    "    URLS=[]\n",
    "    for tag in website_tags:\n",
    "        URLS.append(tag.get('Website'))\n",
    "    return URLS\n",
    "URLS = get_URLS(item_list_tags)"
   ]
  },
  {
   "cell_type": "code",
   "execution_count": 9,
   "id": "0b8f3b2b",
   "metadata": {
    "execution": {
     "iopub.execute_input": "2022-01-08T07:19:53.947545Z",
     "iopub.status.busy": "2022-01-08T07:19:53.946948Z",
     "iopub.status.idle": "2022-01-08T07:19:53.949040Z",
     "shell.execute_reply": "2022-01-08T07:19:53.949589Z",
     "shell.execute_reply.started": "2022-01-08T07:15:08.629760Z"
    },
    "papermill": {
     "duration": 0.016393,
     "end_time": "2022-01-08T07:19:53.949750",
     "exception": false,
     "start_time": "2022-01-08T07:19:53.933357",
     "status": "completed"
    },
    "tags": []
   },
   "outputs": [],
   "source": [
    "Dict={\"Title\":itemdetail,\"ItemPrice\":itemprice,\"Stars\":star,\"Website\":URLS}"
   ]
  },
  {
   "cell_type": "code",
   "execution_count": 10,
   "id": "e9d114df",
   "metadata": {
    "execution": {
     "iopub.execute_input": "2022-01-08T07:19:53.973146Z",
     "iopub.status.busy": "2022-01-08T07:19:53.972556Z",
     "iopub.status.idle": "2022-01-08T07:20:23.573524Z",
     "shell.execute_reply": "2022-01-08T07:20:23.572562Z",
     "shell.execute_reply.started": "2022-01-08T07:15:46.359407Z"
    },
    "papermill": {
     "duration": 29.614092,
     "end_time": "2022-01-08T07:20:23.573685",
     "exception": false,
     "start_time": "2022-01-08T07:19:53.959593",
     "status": "completed"
    },
    "tags": []
   },
   "outputs": [
    {
     "name": "stdout",
     "output_type": "stream",
     "text": [
      "Downloading page number 1\n",
      "Downloading page number 2\n",
      "Downloading page number 3\n",
      "Downloading page number 4\n"
     ]
    },
    {
     "data": {
      "text/html": [
       "<div>\n",
       "<style scoped>\n",
       "    .dataframe tbody tr th:only-of-type {\n",
       "        vertical-align: middle;\n",
       "    }\n",
       "\n",
       "    .dataframe tbody tr th {\n",
       "        vertical-align: top;\n",
       "    }\n",
       "\n",
       "    .dataframe thead th {\n",
       "        text-align: right;\n",
       "    }\n",
       "</style>\n",
       "<table border=\"1\" class=\"dataframe\">\n",
       "  <thead>\n",
       "    <tr style=\"text-align: right;\">\n",
       "      <th></th>\n",
       "      <th>title</th>\n",
       "      <th>itemprice</th>\n",
       "      <th>starrs</th>\n",
       "      <th>url</th>\n",
       "    </tr>\n",
       "  </thead>\n",
       "  <tbody>\n",
       "    <tr>\n",
       "      <th>0</th>\n",
       "      <td>Most popular items neck strap lanyard chain va...</td>\n",
       "      <td>$0.90</td>\n",
       "      <td>1</td>\n",
       "      <td>https://www.alibaba.com/product-detail/Most-po...</td>\n",
       "    </tr>\n",
       "    <tr>\n",
       "      <th>1</th>\n",
       "      <td>Fashionable inflight items plastic sound insul...</td>\n",
       "      <td>$0.038-$0.25</td>\n",
       "      <td>0</td>\n",
       "      <td>https://www.alibaba.com/product-detail/Fashion...</td>\n",
       "    </tr>\n",
       "    <tr>\n",
       "      <th>2</th>\n",
       "      <td>Cheap Custom Promotional Item,Promotional Prod...</td>\n",
       "      <td>$0.10-$0.50</td>\n",
       "      <td>3</td>\n",
       "      <td>https://www.alibaba.com/product-detail/Cheap-C...</td>\n",
       "    </tr>\n",
       "    <tr>\n",
       "      <th>3</th>\n",
       "      <td>Most Popular Promotional Products and Corporat...</td>\n",
       "      <td>$15.00-$20.00</td>\n",
       "      <td>3</td>\n",
       "      <td>https://www.alibaba.com/product-detail/Most-Po...</td>\n",
       "    </tr>\n",
       "    <tr>\n",
       "      <th>4</th>\n",
       "      <td>One stop OEM &amp; ODM Custom Logo Promotion Mater...</td>\n",
       "      <td>$0.42-$1.23</td>\n",
       "      <td>3</td>\n",
       "      <td>https://www.alibaba.com/product-detail/One-sto...</td>\n",
       "    </tr>\n",
       "  </tbody>\n",
       "</table>\n",
       "</div>"
      ],
      "text/plain": [
       "                                               title      itemprice  starrs  \\\n",
       "0  Most popular items neck strap lanyard chain va...          $0.90       1   \n",
       "1  Fashionable inflight items plastic sound insul...   $0.038-$0.25       0   \n",
       "2  Cheap Custom Promotional Item,Promotional Prod...    $0.10-$0.50       3   \n",
       "3  Most Popular Promotional Products and Corporat...  $15.00-$20.00       3   \n",
       "4  One stop OEM & ODM Custom Logo Promotion Mater...    $0.42-$1.23       3   \n",
       "\n",
       "                                                 url  \n",
       "0  https://www.alibaba.com/product-detail/Most-po...  \n",
       "1  https://www.alibaba.com/product-detail/Fashion...  \n",
       "2  https://www.alibaba.com/product-detail/Cheap-C...  \n",
       "3  https://www.alibaba.com/product-detail/Most-Po...  \n",
       "4  https://www.alibaba.com/product-detail/One-sto...  "
      ]
     },
     "execution_count": 10,
     "metadata": {},
     "output_type": "execute_result"
    }
   ],
   "source": [
    "#Combining everything together\n",
    "def get_web_scraping():\n",
    "    get_item_list_tags()\n",
    "\n",
    "    Dict1 = {\n",
    "        'title': get_itemdetail(item_list_tags),\n",
    "        'itemprice': get_itemprice(item_list_tags),\n",
    "        'starrs': get_Stars(item_list_tags),\n",
    "        'url': get_URLS(item_list_tags)\n",
    "    }\n",
    "    return pd.DataFrame(Dict1)\n",
    "\n",
    "function_based_df = get_web_scraping()\n",
    "function_based_df[:5] #this will display the dataframe"
   ]
  },
  {
   "cell_type": "code",
   "execution_count": null,
   "id": "3938f813",
   "metadata": {
    "papermill": {
     "duration": 0.013734,
     "end_time": "2022-01-08T07:20:23.600880",
     "exception": false,
     "start_time": "2022-01-08T07:20:23.587146",
     "status": "completed"
    },
    "tags": []
   },
   "outputs": [],
   "source": []
  }
 ],
 "metadata": {
  "kernelspec": {
   "display_name": "Python 3",
   "language": "python",
   "name": "python3"
  },
  "language_info": {
   "codemirror_mode": {
    "name": "ipython",
    "version": 3
   },
   "file_extension": ".py",
   "mimetype": "text/x-python",
   "name": "python",
   "nbconvert_exporter": "python",
   "pygments_lexer": "ipython3",
   "version": "3.7.12"
  },
  "papermill": {
   "default_parameters": {},
   "duration": 65.189694,
   "end_time": "2022-01-08T07:20:24.229765",
   "environment_variables": {},
   "exception": null,
   "input_path": "__notebook__.ipynb",
   "output_path": "__notebook__.ipynb",
   "parameters": {},
   "start_time": "2022-01-08T07:19:19.040071",
   "version": "2.3.3"
  }
 },
 "nbformat": 4,
 "nbformat_minor": 5
}
